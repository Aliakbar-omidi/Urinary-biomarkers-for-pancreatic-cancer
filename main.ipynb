{
 "cells": [
  {
   "cell_type": "code",
   "id": "initial_id",
   "metadata": {
    "collapsed": true,
    "ExecuteTime": {
     "end_time": "2025-02-18T11:39:52.951642Z",
     "start_time": "2025-02-18T11:39:52.946514Z"
    }
   },
   "source": [
    "import matplotlib.pyplot as plt\n",
    "import pandas as pd\n",
    "import numpy as np\n",
    "from sklearn.model_selection import train_test_split, GridSearchCV\n",
    "from sklearn.svm import SVC\n",
    "from sklearn.neighbors import KNeighborsClassifier\n",
    "from sklearn.linear_model import LogisticRegression\n",
    "from sklearn.ensemble import RandomForestClassifier, StackingClassifier, GradientBoostingClassifier\n",
    "from xgboost import XGBClassifier\n",
    "from sklearn.metrics import accuracy_score, classification_report, roc_curve, auc, roc_auc_score\n",
    "from sklearn.impute import KNNImputer\n",
    "from sklearn.preprocessing import OneHotEncoder, StandardScaler, LabelEncoder, label_binarize\n"
   ],
   "outputs": [],
   "execution_count": 73
  },
  {
   "metadata": {
    "ExecuteTime": {
     "end_time": "2025-02-18T11:39:53.439154Z",
     "start_time": "2025-02-18T11:39:53.427216Z"
    }
   },
   "cell_type": "code",
   "source": [
    "df = pd.read_csv(\"Debernardi et al 2020 data.csv\")\n",
    "print(df.shape)\n",
    "df.head(7)"
   ],
   "id": "bfed0c76ee9b5ac4",
   "outputs": [
    {
     "name": "stdout",
     "output_type": "stream",
     "text": [
      "(590, 14)\n"
     ]
    },
    {
     "data": {
      "text/plain": [
       "  sample_id patient_cohort sample_origin  age sex  diagnosis stage  \\\n",
       "0        S1        Cohort1          BPTB   33   F          1   NaN   \n",
       "1       S10        Cohort1          BPTB   81   F          1   NaN   \n",
       "2      S100        Cohort2          BPTB   51   M          1   NaN   \n",
       "3      S101        Cohort2          BPTB   61   M          1   NaN   \n",
       "4      S102        Cohort2          BPTB   62   M          1   NaN   \n",
       "5      S103        Cohort2          BPTB   53   M          1   NaN   \n",
       "6      S104        Cohort2          BPTB   70   M          1   NaN   \n",
       "\n",
       "  benign_sample_diagnosis  plasma_CA19_9  creatinine     LYVE1      REG1B  \\\n",
       "0                     NaN           11.7     1.83222  0.893219   52.94884   \n",
       "1                     NaN            NaN     0.97266  2.037585   94.46703   \n",
       "2                     NaN            7.0     0.78039  0.145589  102.36600   \n",
       "3                     NaN            8.0     0.70122  0.002805   60.57900   \n",
       "4                     NaN            9.0     0.21489  0.000860   65.54000   \n",
       "5                     NaN            NaN     0.84825  0.003393   62.12600   \n",
       "6                     NaN            NaN     0.62205  0.174381  152.27700   \n",
       "\n",
       "         TFF1     REG1A  \n",
       "0  654.282174  1262.000  \n",
       "1  209.488250   228.407  \n",
       "2  461.141000       NaN  \n",
       "3  142.950000       NaN  \n",
       "4   41.088000       NaN  \n",
       "5   59.793000       NaN  \n",
       "6  117.516000       NaN  "
      ],
      "text/html": [
       "<div>\n",
       "<style scoped>\n",
       "    .dataframe tbody tr th:only-of-type {\n",
       "        vertical-align: middle;\n",
       "    }\n",
       "\n",
       "    .dataframe tbody tr th {\n",
       "        vertical-align: top;\n",
       "    }\n",
       "\n",
       "    .dataframe thead th {\n",
       "        text-align: right;\n",
       "    }\n",
       "</style>\n",
       "<table border=\"1\" class=\"dataframe\">\n",
       "  <thead>\n",
       "    <tr style=\"text-align: right;\">\n",
       "      <th></th>\n",
       "      <th>sample_id</th>\n",
       "      <th>patient_cohort</th>\n",
       "      <th>sample_origin</th>\n",
       "      <th>age</th>\n",
       "      <th>sex</th>\n",
       "      <th>diagnosis</th>\n",
       "      <th>stage</th>\n",
       "      <th>benign_sample_diagnosis</th>\n",
       "      <th>plasma_CA19_9</th>\n",
       "      <th>creatinine</th>\n",
       "      <th>LYVE1</th>\n",
       "      <th>REG1B</th>\n",
       "      <th>TFF1</th>\n",
       "      <th>REG1A</th>\n",
       "    </tr>\n",
       "  </thead>\n",
       "  <tbody>\n",
       "    <tr>\n",
       "      <th>0</th>\n",
       "      <td>S1</td>\n",
       "      <td>Cohort1</td>\n",
       "      <td>BPTB</td>\n",
       "      <td>33</td>\n",
       "      <td>F</td>\n",
       "      <td>1</td>\n",
       "      <td>NaN</td>\n",
       "      <td>NaN</td>\n",
       "      <td>11.7</td>\n",
       "      <td>1.83222</td>\n",
       "      <td>0.893219</td>\n",
       "      <td>52.94884</td>\n",
       "      <td>654.282174</td>\n",
       "      <td>1262.000</td>\n",
       "    </tr>\n",
       "    <tr>\n",
       "      <th>1</th>\n",
       "      <td>S10</td>\n",
       "      <td>Cohort1</td>\n",
       "      <td>BPTB</td>\n",
       "      <td>81</td>\n",
       "      <td>F</td>\n",
       "      <td>1</td>\n",
       "      <td>NaN</td>\n",
       "      <td>NaN</td>\n",
       "      <td>NaN</td>\n",
       "      <td>0.97266</td>\n",
       "      <td>2.037585</td>\n",
       "      <td>94.46703</td>\n",
       "      <td>209.488250</td>\n",
       "      <td>228.407</td>\n",
       "    </tr>\n",
       "    <tr>\n",
       "      <th>2</th>\n",
       "      <td>S100</td>\n",
       "      <td>Cohort2</td>\n",
       "      <td>BPTB</td>\n",
       "      <td>51</td>\n",
       "      <td>M</td>\n",
       "      <td>1</td>\n",
       "      <td>NaN</td>\n",
       "      <td>NaN</td>\n",
       "      <td>7.0</td>\n",
       "      <td>0.78039</td>\n",
       "      <td>0.145589</td>\n",
       "      <td>102.36600</td>\n",
       "      <td>461.141000</td>\n",
       "      <td>NaN</td>\n",
       "    </tr>\n",
       "    <tr>\n",
       "      <th>3</th>\n",
       "      <td>S101</td>\n",
       "      <td>Cohort2</td>\n",
       "      <td>BPTB</td>\n",
       "      <td>61</td>\n",
       "      <td>M</td>\n",
       "      <td>1</td>\n",
       "      <td>NaN</td>\n",
       "      <td>NaN</td>\n",
       "      <td>8.0</td>\n",
       "      <td>0.70122</td>\n",
       "      <td>0.002805</td>\n",
       "      <td>60.57900</td>\n",
       "      <td>142.950000</td>\n",
       "      <td>NaN</td>\n",
       "    </tr>\n",
       "    <tr>\n",
       "      <th>4</th>\n",
       "      <td>S102</td>\n",
       "      <td>Cohort2</td>\n",
       "      <td>BPTB</td>\n",
       "      <td>62</td>\n",
       "      <td>M</td>\n",
       "      <td>1</td>\n",
       "      <td>NaN</td>\n",
       "      <td>NaN</td>\n",
       "      <td>9.0</td>\n",
       "      <td>0.21489</td>\n",
       "      <td>0.000860</td>\n",
       "      <td>65.54000</td>\n",
       "      <td>41.088000</td>\n",
       "      <td>NaN</td>\n",
       "    </tr>\n",
       "    <tr>\n",
       "      <th>5</th>\n",
       "      <td>S103</td>\n",
       "      <td>Cohort2</td>\n",
       "      <td>BPTB</td>\n",
       "      <td>53</td>\n",
       "      <td>M</td>\n",
       "      <td>1</td>\n",
       "      <td>NaN</td>\n",
       "      <td>NaN</td>\n",
       "      <td>NaN</td>\n",
       "      <td>0.84825</td>\n",
       "      <td>0.003393</td>\n",
       "      <td>62.12600</td>\n",
       "      <td>59.793000</td>\n",
       "      <td>NaN</td>\n",
       "    </tr>\n",
       "    <tr>\n",
       "      <th>6</th>\n",
       "      <td>S104</td>\n",
       "      <td>Cohort2</td>\n",
       "      <td>BPTB</td>\n",
       "      <td>70</td>\n",
       "      <td>M</td>\n",
       "      <td>1</td>\n",
       "      <td>NaN</td>\n",
       "      <td>NaN</td>\n",
       "      <td>NaN</td>\n",
       "      <td>0.62205</td>\n",
       "      <td>0.174381</td>\n",
       "      <td>152.27700</td>\n",
       "      <td>117.516000</td>\n",
       "      <td>NaN</td>\n",
       "    </tr>\n",
       "  </tbody>\n",
       "</table>\n",
       "</div>"
      ]
     },
     "execution_count": 74,
     "metadata": {},
     "output_type": "execute_result"
    }
   ],
   "execution_count": 74
  },
  {
   "metadata": {
    "ExecuteTime": {
     "end_time": "2025-02-18T11:39:53.847117Z",
     "start_time": "2025-02-18T11:39:53.838899Z"
    }
   },
   "cell_type": "code",
   "source": "df.info()",
   "id": "104354cf53b8ef33",
   "outputs": [
    {
     "name": "stdout",
     "output_type": "stream",
     "text": [
      "<class 'pandas.core.frame.DataFrame'>\n",
      "RangeIndex: 590 entries, 0 to 589\n",
      "Data columns (total 14 columns):\n",
      " #   Column                   Non-Null Count  Dtype  \n",
      "---  ------                   --------------  -----  \n",
      " 0   sample_id                590 non-null    object \n",
      " 1   patient_cohort           590 non-null    object \n",
      " 2   sample_origin            590 non-null    object \n",
      " 3   age                      590 non-null    int64  \n",
      " 4   sex                      590 non-null    object \n",
      " 5   diagnosis                590 non-null    int64  \n",
      " 6   stage                    199 non-null    object \n",
      " 7   benign_sample_diagnosis  208 non-null    object \n",
      " 8   plasma_CA19_9            350 non-null    float64\n",
      " 9   creatinine               590 non-null    float64\n",
      " 10  LYVE1                    590 non-null    float64\n",
      " 11  REG1B                    590 non-null    float64\n",
      " 12  TFF1                     590 non-null    float64\n",
      " 13  REG1A                    306 non-null    float64\n",
      "dtypes: float64(6), int64(2), object(6)\n",
      "memory usage: 64.7+ KB\n"
     ]
    }
   ],
   "execution_count": 75
  },
  {
   "metadata": {
    "ExecuteTime": {
     "end_time": "2025-02-18T11:39:54.044849Z",
     "start_time": "2025-02-18T11:39:54.035967Z"
    }
   },
   "cell_type": "code",
   "source": "df.isna().sum()",
   "id": "9a3cd382eb65c11b",
   "outputs": [
    {
     "data": {
      "text/plain": [
       "sample_id                    0\n",
       "patient_cohort               0\n",
       "sample_origin                0\n",
       "age                          0\n",
       "sex                          0\n",
       "diagnosis                    0\n",
       "stage                      391\n",
       "benign_sample_diagnosis    382\n",
       "plasma_CA19_9              240\n",
       "creatinine                   0\n",
       "LYVE1                        0\n",
       "REG1B                        0\n",
       "TFF1                         0\n",
       "REG1A                      284\n",
       "dtype: int64"
      ]
     },
     "execution_count": 76,
     "metadata": {},
     "output_type": "execute_result"
    }
   ],
   "execution_count": 76
  },
  {
   "metadata": {
    "ExecuteTime": {
     "end_time": "2025-02-18T11:39:54.371542Z",
     "start_time": "2025-02-18T11:39:54.337878Z"
    }
   },
   "cell_type": "code",
   "source": [
    "# preprocessing\n",
    "\n",
    "df['stage'] = df['stage'].fillna('Unknown')\n",
    "df['benign_sample_diagnosis'] = df['benign_sample_diagnosis'].fillna('Unknown')\n",
    "df['REG1A'] = df['REG1A'].fillna(df['REG1A'].mean())\n",
    "\n",
    "imputer = KNNImputer(n_neighbors=3)\n",
    "df['plasma_CA19_9'] = imputer.fit_transform(df[['plasma_CA19_9']])\n",
    "\n",
    "\n",
    "encoder = LabelEncoder()\n",
    "df['stage'] = encoder.fit_transform(df['stage'])\n",
    "df['sample_origin'] = encoder.fit_transform(df['sample_origin'])\n",
    "\n",
    "\n",
    "df['benign_sample_diagnosis'] = df['benign_sample_diagnosis'].str.strip()\n",
    "df['benign_sample_diagnosis'] = encoder.fit_transform(df['benign_sample_diagnosis'])\n",
    "\n",
    "df = pd.get_dummies(df, columns=['sex', 'patient_cohort'], drop_first=True)\n",
    "\n",
    "columns = ['plasma_CA19_9', 'creatinine', 'LYVE1', 'REG1B', 'TFF1']\n",
    "scaler = StandardScaler()\n",
    "df[columns] = scaler.fit_transform(df[columns])\n",
    "\n",
    "df.drop(columns=['sample_id'], inplace=True)\n",
    "\n",
    "df\n"
   ],
   "id": "e8e48c488fc88ab2",
   "outputs": [
    {
     "data": {
      "text/plain": [
       "     sample_origin  age  diagnosis  stage  benign_sample_diagnosis  \\\n",
       "0                0   33          1      8                       47   \n",
       "1                0   81          1      8                       47   \n",
       "2                0   51          1      8                       47   \n",
       "3                0   61          1      8                       47   \n",
       "4                0   62          1      8                       47   \n",
       "..             ...  ...        ...    ...                      ...   \n",
       "585              0   68          3      7                       47   \n",
       "586              0   71          3      7                       47   \n",
       "587              0   63          3      7                       47   \n",
       "588              0   75          3      7                       47   \n",
       "589              0   74          3      7                       47   \n",
       "\n",
       "     plasma_CA19_9  creatinine     LYVE1     REG1B      TFF1         REG1A  \\\n",
       "0    -3.436293e-01    1.529927 -0.631661 -0.299975  0.055876   1262.000000   \n",
       "1    -6.082196e-17    0.183680 -0.298597 -0.088256 -0.384680    228.407000   \n",
       "2    -3.461438e-01   -0.117454 -0.849256 -0.047976 -0.135425    735.281222   \n",
       "3    -3.456088e-01   -0.241451 -0.890812 -0.261065 -0.450584    735.281222   \n",
       "4    -3.450738e-01   -1.003143 -0.891378 -0.235767 -0.551475    735.281222   \n",
       "..             ...         ...       ...       ...       ...           ...   \n",
       "585  -6.082196e-17   -0.524871  1.162636  0.226755 -0.071998    735.281222   \n",
       "586  -6.082196e-17    0.006542  1.536048 -0.483726 -0.348568    735.281222   \n",
       "587  -6.082196e-17    0.803662  1.342066  0.907324 -0.060005    735.281222   \n",
       "588  -6.082196e-17    0.750521  1.496923  0.480141  0.123466    735.281222   \n",
       "589   4.461848e-01    1.016227  1.495229  1.530663  1.409888  13200.000000   \n",
       "\n",
       "     sex_M  patient_cohort_Cohort2  \n",
       "0    False                   False  \n",
       "1    False                   False  \n",
       "2     True                    True  \n",
       "3     True                    True  \n",
       "4     True                    True  \n",
       "..     ...                     ...  \n",
       "585   True                    True  \n",
       "586  False                    True  \n",
       "587   True                    True  \n",
       "588  False                    True  \n",
       "589   True                   False  \n",
       "\n",
       "[590 rows x 13 columns]"
      ],
      "text/html": [
       "<div>\n",
       "<style scoped>\n",
       "    .dataframe tbody tr th:only-of-type {\n",
       "        vertical-align: middle;\n",
       "    }\n",
       "\n",
       "    .dataframe tbody tr th {\n",
       "        vertical-align: top;\n",
       "    }\n",
       "\n",
       "    .dataframe thead th {\n",
       "        text-align: right;\n",
       "    }\n",
       "</style>\n",
       "<table border=\"1\" class=\"dataframe\">\n",
       "  <thead>\n",
       "    <tr style=\"text-align: right;\">\n",
       "      <th></th>\n",
       "      <th>sample_origin</th>\n",
       "      <th>age</th>\n",
       "      <th>diagnosis</th>\n",
       "      <th>stage</th>\n",
       "      <th>benign_sample_diagnosis</th>\n",
       "      <th>plasma_CA19_9</th>\n",
       "      <th>creatinine</th>\n",
       "      <th>LYVE1</th>\n",
       "      <th>REG1B</th>\n",
       "      <th>TFF1</th>\n",
       "      <th>REG1A</th>\n",
       "      <th>sex_M</th>\n",
       "      <th>patient_cohort_Cohort2</th>\n",
       "    </tr>\n",
       "  </thead>\n",
       "  <tbody>\n",
       "    <tr>\n",
       "      <th>0</th>\n",
       "      <td>0</td>\n",
       "      <td>33</td>\n",
       "      <td>1</td>\n",
       "      <td>8</td>\n",
       "      <td>47</td>\n",
       "      <td>-3.436293e-01</td>\n",
       "      <td>1.529927</td>\n",
       "      <td>-0.631661</td>\n",
       "      <td>-0.299975</td>\n",
       "      <td>0.055876</td>\n",
       "      <td>1262.000000</td>\n",
       "      <td>False</td>\n",
       "      <td>False</td>\n",
       "    </tr>\n",
       "    <tr>\n",
       "      <th>1</th>\n",
       "      <td>0</td>\n",
       "      <td>81</td>\n",
       "      <td>1</td>\n",
       "      <td>8</td>\n",
       "      <td>47</td>\n",
       "      <td>-6.082196e-17</td>\n",
       "      <td>0.183680</td>\n",
       "      <td>-0.298597</td>\n",
       "      <td>-0.088256</td>\n",
       "      <td>-0.384680</td>\n",
       "      <td>228.407000</td>\n",
       "      <td>False</td>\n",
       "      <td>False</td>\n",
       "    </tr>\n",
       "    <tr>\n",
       "      <th>2</th>\n",
       "      <td>0</td>\n",
       "      <td>51</td>\n",
       "      <td>1</td>\n",
       "      <td>8</td>\n",
       "      <td>47</td>\n",
       "      <td>-3.461438e-01</td>\n",
       "      <td>-0.117454</td>\n",
       "      <td>-0.849256</td>\n",
       "      <td>-0.047976</td>\n",
       "      <td>-0.135425</td>\n",
       "      <td>735.281222</td>\n",
       "      <td>True</td>\n",
       "      <td>True</td>\n",
       "    </tr>\n",
       "    <tr>\n",
       "      <th>3</th>\n",
       "      <td>0</td>\n",
       "      <td>61</td>\n",
       "      <td>1</td>\n",
       "      <td>8</td>\n",
       "      <td>47</td>\n",
       "      <td>-3.456088e-01</td>\n",
       "      <td>-0.241451</td>\n",
       "      <td>-0.890812</td>\n",
       "      <td>-0.261065</td>\n",
       "      <td>-0.450584</td>\n",
       "      <td>735.281222</td>\n",
       "      <td>True</td>\n",
       "      <td>True</td>\n",
       "    </tr>\n",
       "    <tr>\n",
       "      <th>4</th>\n",
       "      <td>0</td>\n",
       "      <td>62</td>\n",
       "      <td>1</td>\n",
       "      <td>8</td>\n",
       "      <td>47</td>\n",
       "      <td>-3.450738e-01</td>\n",
       "      <td>-1.003143</td>\n",
       "      <td>-0.891378</td>\n",
       "      <td>-0.235767</td>\n",
       "      <td>-0.551475</td>\n",
       "      <td>735.281222</td>\n",
       "      <td>True</td>\n",
       "      <td>True</td>\n",
       "    </tr>\n",
       "    <tr>\n",
       "      <th>...</th>\n",
       "      <td>...</td>\n",
       "      <td>...</td>\n",
       "      <td>...</td>\n",
       "      <td>...</td>\n",
       "      <td>...</td>\n",
       "      <td>...</td>\n",
       "      <td>...</td>\n",
       "      <td>...</td>\n",
       "      <td>...</td>\n",
       "      <td>...</td>\n",
       "      <td>...</td>\n",
       "      <td>...</td>\n",
       "      <td>...</td>\n",
       "    </tr>\n",
       "    <tr>\n",
       "      <th>585</th>\n",
       "      <td>0</td>\n",
       "      <td>68</td>\n",
       "      <td>3</td>\n",
       "      <td>7</td>\n",
       "      <td>47</td>\n",
       "      <td>-6.082196e-17</td>\n",
       "      <td>-0.524871</td>\n",
       "      <td>1.162636</td>\n",
       "      <td>0.226755</td>\n",
       "      <td>-0.071998</td>\n",
       "      <td>735.281222</td>\n",
       "      <td>True</td>\n",
       "      <td>True</td>\n",
       "    </tr>\n",
       "    <tr>\n",
       "      <th>586</th>\n",
       "      <td>0</td>\n",
       "      <td>71</td>\n",
       "      <td>3</td>\n",
       "      <td>7</td>\n",
       "      <td>47</td>\n",
       "      <td>-6.082196e-17</td>\n",
       "      <td>0.006542</td>\n",
       "      <td>1.536048</td>\n",
       "      <td>-0.483726</td>\n",
       "      <td>-0.348568</td>\n",
       "      <td>735.281222</td>\n",
       "      <td>False</td>\n",
       "      <td>True</td>\n",
       "    </tr>\n",
       "    <tr>\n",
       "      <th>587</th>\n",
       "      <td>0</td>\n",
       "      <td>63</td>\n",
       "      <td>3</td>\n",
       "      <td>7</td>\n",
       "      <td>47</td>\n",
       "      <td>-6.082196e-17</td>\n",
       "      <td>0.803662</td>\n",
       "      <td>1.342066</td>\n",
       "      <td>0.907324</td>\n",
       "      <td>-0.060005</td>\n",
       "      <td>735.281222</td>\n",
       "      <td>True</td>\n",
       "      <td>True</td>\n",
       "    </tr>\n",
       "    <tr>\n",
       "      <th>588</th>\n",
       "      <td>0</td>\n",
       "      <td>75</td>\n",
       "      <td>3</td>\n",
       "      <td>7</td>\n",
       "      <td>47</td>\n",
       "      <td>-6.082196e-17</td>\n",
       "      <td>0.750521</td>\n",
       "      <td>1.496923</td>\n",
       "      <td>0.480141</td>\n",
       "      <td>0.123466</td>\n",
       "      <td>735.281222</td>\n",
       "      <td>False</td>\n",
       "      <td>True</td>\n",
       "    </tr>\n",
       "    <tr>\n",
       "      <th>589</th>\n",
       "      <td>0</td>\n",
       "      <td>74</td>\n",
       "      <td>3</td>\n",
       "      <td>7</td>\n",
       "      <td>47</td>\n",
       "      <td>4.461848e-01</td>\n",
       "      <td>1.016227</td>\n",
       "      <td>1.495229</td>\n",
       "      <td>1.530663</td>\n",
       "      <td>1.409888</td>\n",
       "      <td>13200.000000</td>\n",
       "      <td>True</td>\n",
       "      <td>False</td>\n",
       "    </tr>\n",
       "  </tbody>\n",
       "</table>\n",
       "<p>590 rows × 13 columns</p>\n",
       "</div>"
      ]
     },
     "execution_count": 77,
     "metadata": {},
     "output_type": "execute_result"
    }
   ],
   "execution_count": 77
  },
  {
   "metadata": {
    "ExecuteTime": {
     "end_time": "2025-02-18T11:39:55.997730Z",
     "start_time": "2025-02-18T11:39:55.985314Z"
    }
   },
   "cell_type": "code",
   "source": "df.isna().sum()",
   "id": "34231486bfb9d814",
   "outputs": [
    {
     "data": {
      "text/plain": [
       "sample_origin              0\n",
       "age                        0\n",
       "diagnosis                  0\n",
       "stage                      0\n",
       "benign_sample_diagnosis    0\n",
       "plasma_CA19_9              0\n",
       "creatinine                 0\n",
       "LYVE1                      0\n",
       "REG1B                      0\n",
       "TFF1                       0\n",
       "REG1A                      0\n",
       "sex_M                      0\n",
       "patient_cohort_Cohort2     0\n",
       "dtype: int64"
      ]
     },
     "execution_count": 78,
     "metadata": {},
     "output_type": "execute_result"
    }
   ],
   "execution_count": 78
  },
  {
   "metadata": {
    "ExecuteTime": {
     "end_time": "2025-02-18T11:39:56.286812Z",
     "start_time": "2025-02-18T11:39:56.278562Z"
    }
   },
   "cell_type": "code",
   "source": [
    "X = df.drop(columns=['diagnosis'])\n",
    "y = df['diagnosis'] - 1\n",
    "print(np.unique(y))"
   ],
   "id": "aab3e112608adb77",
   "outputs": [
    {
     "name": "stdout",
     "output_type": "stream",
     "text": [
      "[0 1 2]\n"
     ]
    }
   ],
   "execution_count": 79
  },
  {
   "metadata": {
    "ExecuteTime": {
     "end_time": "2025-02-18T11:39:56.469348Z",
     "start_time": "2025-02-18T11:39:56.457252Z"
    }
   },
   "cell_type": "code",
   "source": "x_train, x_test, y_train, y_test = train_test_split(X, y, test_size=0.3,stratify=y, random_state=42)",
   "id": "ceb54f319d786f5e",
   "outputs": [],
   "execution_count": 80
  },
  {
   "metadata": {
    "ExecuteTime": {
     "end_time": "2025-02-18T11:39:56.656191Z",
     "start_time": "2025-02-18T11:39:56.652425Z"
    }
   },
   "cell_type": "code",
   "source": [
    "print(x_train.shape)\n",
    "print(x_test.shape)\n",
    "print(y_train.shape)\n",
    "print(y_test.shape)"
   ],
   "id": "ee0187353bd606aa",
   "outputs": [
    {
     "name": "stdout",
     "output_type": "stream",
     "text": [
      "(413, 12)\n",
      "(177, 12)\n",
      "(413,)\n",
      "(177,)\n"
     ]
    }
   ],
   "execution_count": 81
  },
  {
   "metadata": {
    "ExecuteTime": {
     "end_time": "2025-02-18T11:40:01.665451Z",
     "start_time": "2025-02-18T11:39:57.014130Z"
    }
   },
   "cell_type": "code",
   "source": [
    "# grid search for XGB\n",
    "\n",
    "param_grid_xgb = {\n",
    "    'n_estimators': [50, 100, 200],\n",
    "    'max_depth': [3, 5, 7],\n",
    "    'min_child_weight': [1, 2, 3, 4],\n",
    "    'learning_rate': [0.01, 0.1, 0.15]\n",
    "}\n",
    "\n",
    "xgb_clf = XGBClassifier()\n",
    "\n",
    "grid_xgb = GridSearchCV(xgb_clf, param_grid=param_grid_xgb, cv=5, n_jobs=-1)\n",
    "grid_xgb.fit(x_train, y_train)\n",
    "\n",
    "print(grid_xgb.best_params_)"
   ],
   "id": "f0456f8a87e93075",
   "outputs": [
    {
     "name": "stdout",
     "output_type": "stream",
     "text": [
      "{'learning_rate': 0.01, 'max_depth': 3, 'min_child_weight': 1, 'n_estimators': 50}\n"
     ]
    }
   ],
   "execution_count": 82
  },
  {
   "metadata": {
    "ExecuteTime": {
     "end_time": "2025-02-18T11:40:09.462412Z",
     "start_time": "2025-02-18T11:40:09.424412Z"
    }
   },
   "cell_type": "code",
   "source": [
    "# XGB accuracy with best parameter\n",
    "\n",
    "best_xgb = XGBClassifier(**grid_xgb.best_params_)\n",
    "best_xgb.fit(x_train, y_train)\n",
    "\n",
    "y_pred = best_xgb.predict(x_test)\n",
    "print('XGB accuracy =>', accuracy_score(y_test, y_pred))"
   ],
   "id": "11dba243e4ec9780",
   "outputs": [
    {
     "name": "stdout",
     "output_type": "stream",
     "text": [
      "XGB accuracy => 1.0\n"
     ]
    }
   ],
   "execution_count": 83
  },
  {
   "metadata": {
    "ExecuteTime": {
     "end_time": "2025-02-18T11:40:21.848471Z",
     "start_time": "2025-02-18T11:40:11.255589Z"
    }
   },
   "cell_type": "code",
   "source": [
    "# grid search for RandomForest\n",
    "\n",
    "param_grid_rf = {\n",
    "    'n_estimators': [50, 100, 200],\n",
    "    'max_depth': [5, 10, 20],\n",
    "    'min_samples_split': [2, 5, 10],\n",
    "}\n",
    "\n",
    "rf_clf = RandomForestClassifier()\n",
    "\n",
    "grid_rf = GridSearchCV(rf_clf, param_grid=param_grid_rf, cv=5)\n",
    "grid_rf.fit(x_train, y_train)\n",
    "print(grid_rf.best_params_)"
   ],
   "id": "19cc06d87b672a43",
   "outputs": [
    {
     "name": "stdout",
     "output_type": "stream",
     "text": [
      "{'max_depth': 5, 'min_samples_split': 2, 'n_estimators': 50}\n"
     ]
    }
   ],
   "execution_count": 84
  },
  {
   "metadata": {
    "ExecuteTime": {
     "end_time": "2025-02-18T11:40:22.994281Z",
     "start_time": "2025-02-18T11:40:22.944567Z"
    }
   },
   "cell_type": "code",
   "source": [
    "best_rf = RandomForestClassifier(**grid_rf.best_params_)\n",
    "best_rf.fit(x_train, y_train)\n",
    "\n",
    "y_pred = best_rf.predict(x_test)\n",
    "print('Random forest accuracy =>', accuracy_score(y_test, y_pred))"
   ],
   "id": "7188dad65c0b0e50",
   "outputs": [
    {
     "name": "stdout",
     "output_type": "stream",
     "text": [
      "Random forest accuracy => 1.0\n"
     ]
    }
   ],
   "execution_count": 85
  },
  {
   "metadata": {
    "ExecuteTime": {
     "end_time": "2025-02-18T11:40:24.002546Z",
     "start_time": "2025-02-18T11:40:23.764883Z"
    }
   },
   "cell_type": "code",
   "source": [
    "# Grid search for SVC\n",
    "\n",
    "param_svc = {'C': [5, 10, 30, 50, 70, 100, 130]}\n",
    "\n",
    "clf_svc = SVC()\n",
    "\n",
    "grid_svc = GridSearchCV(SVC(), param_grid=param_svc, cv=5)\n",
    "grid_svc.fit(x_train, y_train)\n",
    "\n",
    "best_svc_param = grid_svc.best_params_\n",
    "print(best_svc_param)"
   ],
   "id": "dc7f680fe87a11ce",
   "outputs": [
    {
     "name": "stdout",
     "output_type": "stream",
     "text": [
      "{'C': 130}\n"
     ]
    }
   ],
   "execution_count": 86
  },
  {
   "metadata": {
    "ExecuteTime": {
     "end_time": "2025-02-18T11:40:25.005156Z",
     "start_time": "2025-02-18T11:40:24.988453Z"
    }
   },
   "cell_type": "code",
   "source": [
    "# SVC accuracy with best parameter\n",
    "\n",
    "best_svc = SVC(**best_svc_param)\n",
    "\n",
    "best_svc.fit(x_train, y_train)\n",
    "y_pred = best_svc.predict(x_test)\n",
    "print('SVC accuracy =>', accuracy_score(y_test, y_pred))"
   ],
   "id": "cbe29c626a3b5de1",
   "outputs": [
    {
     "name": "stdout",
     "output_type": "stream",
     "text": [
      "SVC accuracy => 0.7627118644067796\n"
     ]
    }
   ],
   "execution_count": 87
  },
  {
   "metadata": {
    "ExecuteTime": {
     "end_time": "2025-02-18T11:40:25.839846Z",
     "start_time": "2025-02-18T11:40:25.749249Z"
    }
   },
   "cell_type": "code",
   "source": [
    "# Grid search for KNN\n",
    "\n",
    "param_knn = {\n",
    "    'n_neighbors': [3, 5, 7]\n",
    "}\n",
    "\n",
    "clf_knn = KNeighborsClassifier()\n",
    "\n",
    "grid_knn = GridSearchCV(clf_knn, param_grid=param_knn, cv=5)\n",
    "grid_knn.fit(x_train, y_train)\n",
    "\n",
    "best_knn_param = grid_knn.best_params_\n",
    "print(best_knn_param)"
   ],
   "id": "62e3c2f07e9db14d",
   "outputs": [
    {
     "name": "stdout",
     "output_type": "stream",
     "text": [
      "{'n_neighbors': 3}\n"
     ]
    }
   ],
   "execution_count": 88
  },
  {
   "metadata": {
    "ExecuteTime": {
     "end_time": "2025-02-18T11:40:28.396149Z",
     "start_time": "2025-02-18T11:40:28.383493Z"
    }
   },
   "cell_type": "code",
   "source": [
    "# KNN accuracy with best parameter\n",
    "\n",
    "best_knn = KNeighborsClassifier(**best_knn_param)\n",
    "best_knn.fit(x_train, y_train)\n",
    "\n",
    "y_pred = best_knn.predict(x_test)\n",
    "print('KNN accuracy =>',accuracy_score(y_test, y_pred))\n"
   ],
   "id": "91a55adf7fbfef5e",
   "outputs": [
    {
     "name": "stdout",
     "output_type": "stream",
     "text": [
      "KNN accuracy => 0.8192090395480226\n"
     ]
    }
   ],
   "execution_count": 89
  },
  {
   "metadata": {
    "ExecuteTime": {
     "end_time": "2025-02-18T11:40:35.066552Z",
     "start_time": "2025-02-18T11:40:34.481358Z"
    }
   },
   "cell_type": "code",
   "source": [
    "# Stacking one\n",
    "\n",
    "stacking_1 = StackingClassifier(\n",
    "    estimators= [\n",
    "        ('rf', best_rf),\n",
    "        ('xgb', best_xgb),\n",
    "        ('svm', best_svc),\n",
    "        ('knn', best_knn)\n",
    "    ],\n",
    "    final_estimator = LogisticRegression()\n",
    ")\n",
    "\n",
    "stacking_1.fit(x_train, y_train)\n",
    "y_pred_1 = stacking_1.predict(x_test)\n",
    "print(\"Accuracy (Stacking 1) =>\", accuracy_score(y_test, y_pred_1))\n",
    "print(classification_report(y_test, y_pred_1))"
   ],
   "id": "f7f11ce6c63fd06b",
   "outputs": [
    {
     "name": "stdout",
     "output_type": "stream",
     "text": [
      "Accuracy (Stacking 1) => 1.0\n",
      "              precision    recall  f1-score   support\n",
      "\n",
      "           0       1.00      1.00      1.00        55\n",
      "           1       1.00      1.00      1.00        62\n",
      "           2       1.00      1.00      1.00        60\n",
      "\n",
      "    accuracy                           1.00       177\n",
      "   macro avg       1.00      1.00      1.00       177\n",
      "weighted avg       1.00      1.00      1.00       177\n",
      "\n"
     ]
    }
   ],
   "execution_count": 90
  },
  {
   "metadata": {
    "ExecuteTime": {
     "end_time": "2025-02-18T11:40:37.480680Z",
     "start_time": "2025-02-18T11:40:37.201904Z"
    }
   },
   "cell_type": "code",
   "source": [
    "# Stacking two\n",
    "\n",
    "stacking_2 = StackingClassifier(\n",
    "    estimators= [\n",
    "        ('svm', best_svc),\n",
    "        ('knn', best_knn)\n",
    "    ],\n",
    "    final_estimator = GradientBoostingClassifier()\n",
    ")\n",
    "\n",
    "stacking_2.fit(x_train, y_train)\n",
    "y_pred_2 = stacking_2.predict(x_test)\n",
    "print(\"Accuracy (Stacking 2) =>\", accuracy_score(y_test, y_pred_2))\n",
    "print(classification_report(y_test, y_pred_2))"
   ],
   "id": "cd5ea69afd59f996",
   "outputs": [
    {
     "name": "stdout",
     "output_type": "stream",
     "text": [
      "Accuracy (Stacking 2) => 0.8418079096045198\n",
      "              precision    recall  f1-score   support\n",
      "\n",
      "           0       0.82      0.75      0.78        55\n",
      "           1       0.98      0.92      0.95        62\n",
      "           2       0.74      0.85      0.79        60\n",
      "\n",
      "    accuracy                           0.84       177\n",
      "   macro avg       0.85      0.84      0.84       177\n",
      "weighted avg       0.85      0.84      0.84       177\n",
      "\n"
     ]
    }
   ],
   "execution_count": 91
  },
  {
   "metadata": {
    "ExecuteTime": {
     "end_time": "2025-02-18T11:44:08.230862Z",
     "start_time": "2025-02-18T11:44:07.913436Z"
    }
   },
   "cell_type": "code",
   "source": [
    "y_test_bin = label_binarize(y_test, classes=[0, 1, 2])\n",
    "\n",
    "\n",
    "y_score_1 = stacking_1.predict_proba(x_test)\n",
    "y_score_2 = stacking_2.predict_proba(x_test)\n",
    "\n",
    "plt.figure(figsize=(15, 6))\n",
    "\n",
    "colors = ['blue', 'red', 'green']\n",
    "\n",
    "plt.subplot(1, 2, 1)\n",
    "for i, color in enumerate(colors):\n",
    "    fpr, tpr, _ = roc_curve(y_test_bin[:, i], y_score_1[:, i])\n",
    "    roc_auc = auc(fpr, tpr)\n",
    "    plt.plot(fpr, tpr, color=color, label = f'Class {i + 1} AUC = {roc_auc:.2f}')\n",
    "    \n",
    "plt.title('ROC AUC (Stacking 1)')\n",
    "plt.legend()\n",
    "\n",
    " \n",
    "plt.subplot(1, 2, 2)\n",
    "for i, color in enumerate(colors):\n",
    "    fpr, tpr, _ = roc_curve(y_test_bin[:, i], y_score_2[:, i])\n",
    "    roc_auc = auc(fpr, tpr)\n",
    "    plt.plot(fpr, tpr, color=color, label=f'Class {i + 1} (AUC = {roc_auc:.2f}')\n",
    "    \n",
    "plt.title('ROC AUC (Stacking 2)')\n",
    "plt.legend()\n",
    "\n",
    "print('Average score Stacking 1:', roc_auc_score(y_test_bin, y_score_1, average='macro'))\n",
    "print('Average score Stacking 2:', f'{roc_auc_score(y_test_bin, y_score_2, average='macro'):.2f}')"
   ],
   "id": "5eeefa9421fdadc0",
   "outputs": [
    {
     "name": "stdout",
     "output_type": "stream",
     "text": [
      "Average score Stacking 1: 1.0\n",
      "Average score Stacking 2: 0.95\n"
     ]
    },
    {
     "data": {
      "text/plain": [
       "<Figure size 1500x600 with 2 Axes>"
      ],
      "image/png": "[encoded data removed]"
     },
     "metadata": {},
     "output_type": "display_data"
    }
   ],
   "execution_count": 93
  },
  {
   "metadata": {},
   "cell_type": "code",
   "outputs": [],
   "execution_count": null,
   "source": "",
   "id": "6995d47b03237b1e"
  }
 ],
 "metadata": {
  "kernelspec": {
   "display_name": "Python 3",
   "language": "python",
   "name": "python3"
  },
  "language_info": {
   "codemirror_mode": {
    "name": "ipython",
    "version": 2
   },
   "file_extension": ".py",
   "mimetype": "text/x-python",
   "name": "python",
   "nbconvert_exporter": "python",
   "pygments_lexer": "ipython2",
   "version": "2.7.6"
  }
 },
 "nbformat": 4,
 "nbformat_minor": 5
}
